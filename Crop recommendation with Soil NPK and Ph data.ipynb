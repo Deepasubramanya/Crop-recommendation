{
 "cells": [
  {
   "cell_type": "code",
   "execution_count": 1,
   "id": "6ff91a40-d014-473e-b094-baea75e631ad",
   "metadata": {},
   "outputs": [],
   "source": [
    "import matplotlib.pyplot as plt\n",
    "import pandas as pd\n",
    "from sklearn.linear_model import LogisticRegression\n",
    "from sklearn.model_selection import train_test_split\n",
    "import seaborn as sns\n",
    "from sklearn.metrics import f1_score\n",
    "import warnings\n",
    "warnings.filterwarnings(\"ignore\")"
   ]
  },
  {
   "cell_type": "code",
   "execution_count": 2,
   "id": "9081c05d-a252-4ce8-9515-f7e897532be3",
   "metadata": {},
   "outputs": [],
   "source": [
    "df_original = pd.read_csv(r\"C:\\Users\\kgk.varma\\Downloads\\soil_measures.csv\")"
   ]
  },
  {
   "cell_type": "code",
   "execution_count": 3,
   "id": "1d67b65c-b964-4422-9c41-aa8dcf9ef16e",
   "metadata": {},
   "outputs": [],
   "source": [
    "df = df_original.copy()"
   ]
  },
  {
   "cell_type": "code",
   "execution_count": 4,
   "id": "8aa42351-f2b7-4f7b-8b5f-fe376d25d534",
   "metadata": {},
   "outputs": [
    {
     "data": {
      "text/html": [
       "<div>\n",
       "<style scoped>\n",
       "    .dataframe tbody tr th:only-of-type {\n",
       "        vertical-align: middle;\n",
       "    }\n",
       "\n",
       "    .dataframe tbody tr th {\n",
       "        vertical-align: top;\n",
       "    }\n",
       "\n",
       "    .dataframe thead th {\n",
       "        text-align: right;\n",
       "    }\n",
       "</style>\n",
       "<table border=\"1\" class=\"dataframe\">\n",
       "  <thead>\n",
       "    <tr style=\"text-align: right;\">\n",
       "      <th></th>\n",
       "      <th>N</th>\n",
       "      <th>P</th>\n",
       "      <th>K</th>\n",
       "      <th>ph</th>\n",
       "      <th>crop</th>\n",
       "    </tr>\n",
       "  </thead>\n",
       "  <tbody>\n",
       "    <tr>\n",
       "      <th>0</th>\n",
       "      <td>90</td>\n",
       "      <td>42</td>\n",
       "      <td>43</td>\n",
       "      <td>6.502985</td>\n",
       "      <td>rice</td>\n",
       "    </tr>\n",
       "    <tr>\n",
       "      <th>1</th>\n",
       "      <td>85</td>\n",
       "      <td>58</td>\n",
       "      <td>41</td>\n",
       "      <td>7.038096</td>\n",
       "      <td>rice</td>\n",
       "    </tr>\n",
       "    <tr>\n",
       "      <th>2</th>\n",
       "      <td>60</td>\n",
       "      <td>55</td>\n",
       "      <td>44</td>\n",
       "      <td>7.840207</td>\n",
       "      <td>rice</td>\n",
       "    </tr>\n",
       "    <tr>\n",
       "      <th>3</th>\n",
       "      <td>74</td>\n",
       "      <td>35</td>\n",
       "      <td>40</td>\n",
       "      <td>6.980401</td>\n",
       "      <td>rice</td>\n",
       "    </tr>\n",
       "    <tr>\n",
       "      <th>4</th>\n",
       "      <td>78</td>\n",
       "      <td>42</td>\n",
       "      <td>42</td>\n",
       "      <td>7.628473</td>\n",
       "      <td>rice</td>\n",
       "    </tr>\n",
       "  </tbody>\n",
       "</table>\n",
       "</div>"
      ],
      "text/plain": [
       "    N   P   K        ph  crop\n",
       "0  90  42  43  6.502985  rice\n",
       "1  85  58  41  7.038096  rice\n",
       "2  60  55  44  7.840207  rice\n",
       "3  74  35  40  6.980401  rice\n",
       "4  78  42  42  7.628473  rice"
      ]
     },
     "execution_count": 4,
     "metadata": {},
     "output_type": "execute_result"
    }
   ],
   "source": [
    "df.head()"
   ]
  },
  {
   "cell_type": "code",
   "execution_count": 5,
   "id": "ea560533-ba99-4e92-8394-969a3db18cdf",
   "metadata": {},
   "outputs": [
    {
     "data": {
      "text/plain": [
       "(2200, 5)"
      ]
     },
     "execution_count": 5,
     "metadata": {},
     "output_type": "execute_result"
    }
   ],
   "source": [
    "df.shape"
   ]
  },
  {
   "cell_type": "code",
   "execution_count": 6,
   "id": "8d23fcec-1093-4b70-818e-d665e4ae0b3c",
   "metadata": {},
   "outputs": [
    {
     "name": "stdout",
     "output_type": "stream",
     "text": [
      "<class 'pandas.core.frame.DataFrame'>\n",
      "RangeIndex: 2200 entries, 0 to 2199\n",
      "Data columns (total 5 columns):\n",
      " #   Column  Non-Null Count  Dtype  \n",
      "---  ------  --------------  -----  \n",
      " 0   N       2200 non-null   int64  \n",
      " 1   P       2200 non-null   int64  \n",
      " 2   K       2200 non-null   int64  \n",
      " 3   ph      2200 non-null   float64\n",
      " 4   crop    2200 non-null   object \n",
      "dtypes: float64(1), int64(3), object(1)\n",
      "memory usage: 86.1+ KB\n"
     ]
    }
   ],
   "source": [
    "df.info()"
   ]
  },
  {
   "cell_type": "code",
   "execution_count": 7,
   "id": "6b831892-6602-44ed-97f5-32b9cf1a288a",
   "metadata": {},
   "outputs": [
    {
     "data": {
      "text/html": [
       "<div>\n",
       "<style scoped>\n",
       "    .dataframe tbody tr th:only-of-type {\n",
       "        vertical-align: middle;\n",
       "    }\n",
       "\n",
       "    .dataframe tbody tr th {\n",
       "        vertical-align: top;\n",
       "    }\n",
       "\n",
       "    .dataframe thead th {\n",
       "        text-align: right;\n",
       "    }\n",
       "</style>\n",
       "<table border=\"1\" class=\"dataframe\">\n",
       "  <thead>\n",
       "    <tr style=\"text-align: right;\">\n",
       "      <th></th>\n",
       "      <th>N</th>\n",
       "      <th>P</th>\n",
       "      <th>K</th>\n",
       "      <th>ph</th>\n",
       "    </tr>\n",
       "  </thead>\n",
       "  <tbody>\n",
       "    <tr>\n",
       "      <th>count</th>\n",
       "      <td>2200.000000</td>\n",
       "      <td>2200.000000</td>\n",
       "      <td>2200.000000</td>\n",
       "      <td>2200.000000</td>\n",
       "    </tr>\n",
       "    <tr>\n",
       "      <th>mean</th>\n",
       "      <td>50.551818</td>\n",
       "      <td>53.362727</td>\n",
       "      <td>48.149091</td>\n",
       "      <td>6.469480</td>\n",
       "    </tr>\n",
       "    <tr>\n",
       "      <th>std</th>\n",
       "      <td>36.917334</td>\n",
       "      <td>32.985883</td>\n",
       "      <td>50.647931</td>\n",
       "      <td>0.773938</td>\n",
       "    </tr>\n",
       "    <tr>\n",
       "      <th>min</th>\n",
       "      <td>0.000000</td>\n",
       "      <td>5.000000</td>\n",
       "      <td>5.000000</td>\n",
       "      <td>3.504752</td>\n",
       "    </tr>\n",
       "    <tr>\n",
       "      <th>25%</th>\n",
       "      <td>21.000000</td>\n",
       "      <td>28.000000</td>\n",
       "      <td>20.000000</td>\n",
       "      <td>5.971693</td>\n",
       "    </tr>\n",
       "    <tr>\n",
       "      <th>50%</th>\n",
       "      <td>37.000000</td>\n",
       "      <td>51.000000</td>\n",
       "      <td>32.000000</td>\n",
       "      <td>6.425045</td>\n",
       "    </tr>\n",
       "    <tr>\n",
       "      <th>75%</th>\n",
       "      <td>84.250000</td>\n",
       "      <td>68.000000</td>\n",
       "      <td>49.000000</td>\n",
       "      <td>6.923643</td>\n",
       "    </tr>\n",
       "    <tr>\n",
       "      <th>max</th>\n",
       "      <td>140.000000</td>\n",
       "      <td>145.000000</td>\n",
       "      <td>205.000000</td>\n",
       "      <td>9.935091</td>\n",
       "    </tr>\n",
       "  </tbody>\n",
       "</table>\n",
       "</div>"
      ],
      "text/plain": [
       "                 N            P            K           ph\n",
       "count  2200.000000  2200.000000  2200.000000  2200.000000\n",
       "mean     50.551818    53.362727    48.149091     6.469480\n",
       "std      36.917334    32.985883    50.647931     0.773938\n",
       "min       0.000000     5.000000     5.000000     3.504752\n",
       "25%      21.000000    28.000000    20.000000     5.971693\n",
       "50%      37.000000    51.000000    32.000000     6.425045\n",
       "75%      84.250000    68.000000    49.000000     6.923643\n",
       "max     140.000000   145.000000   205.000000     9.935091"
      ]
     },
     "execution_count": 7,
     "metadata": {},
     "output_type": "execute_result"
    }
   ],
   "source": [
    "df.describe()"
   ]
  },
  {
   "cell_type": "code",
   "execution_count": 8,
   "id": "125647d4-cd0e-4c66-ad93-d49f9c13648e",
   "metadata": {},
   "outputs": [
    {
     "data": {
      "text/plain": [
       "0"
      ]
     },
     "execution_count": 8,
     "metadata": {},
     "output_type": "execute_result"
    }
   ],
   "source": [
    "df.duplicated().sum()"
   ]
  },
  {
   "cell_type": "code",
   "execution_count": 9,
   "id": "696b302c-83fe-42d3-a53d-479af2e49b4e",
   "metadata": {},
   "outputs": [
    {
     "data": {
      "text/plain": [
       "N       0\n",
       "P       0\n",
       "K       0\n",
       "ph      0\n",
       "crop    0\n",
       "dtype: int64"
      ]
     },
     "execution_count": 9,
     "metadata": {},
     "output_type": "execute_result"
    }
   ],
   "source": [
    "df.isnull().sum()"
   ]
  },
  {
   "cell_type": "code",
   "execution_count": 10,
   "id": "c47bfaf3-4860-40f8-b599-9d12e716661a",
   "metadata": {},
   "outputs": [],
   "source": [
    "X = df.drop('crop', axis=1) \n",
    "y = df['crop'] \n",
    "X_train, X_test, y_train, y_test = train_test_split(X, y, test_size=0.2, random_state=42)"
   ]
  },
  {
   "cell_type": "markdown",
   "id": "829d663e-3925-4327-979f-dbd834c1712f",
   "metadata": {},
   "source": [
    "### Logistic Regression"
   ]
  },
  {
   "cell_type": "code",
   "execution_count": 12,
   "id": "2a95b453-4c50-4cb5-affe-fa5fb020ed27",
   "metadata": {},
   "outputs": [
    {
     "name": "stdout",
     "output_type": "stream",
     "text": [
      "0.647422237577308\n"
     ]
    }
   ],
   "source": [
    "final_features = ['K', 'N','P', 'ph']\n",
    "\n",
    "# Producing a final model\n",
    "X_train, X_test, y_train, y_test = train_test_split(df[final_features], df[\"crop\"], test_size=0.2, random_state=42)\n",
    "\n",
    "log_reg = LogisticRegression(max_iter=2000, multi_class=\"multinomial\")\n",
    "log_reg.fit(X_train, y_train)\n",
    "y_pred = log_reg.predict(X_test)\n",
    "model_performance = f1_score(y_test, y_pred, average=\"weighted\")\n",
    "print(model_performance)"
   ]
  },
  {
   "cell_type": "markdown",
   "id": "4d5c8c48-0c25-4155-83ed-f29d2645284f",
   "metadata": {},
   "source": [
    "### Strategies to improve performence of model using feature engineering, hyperparameter tuning, model regularization, and even using alternative algorithms."
   ]
  },
  {
   "cell_type": "markdown",
   "id": "4cc2ec3a-f473-4948-a362-79a26941782f",
   "metadata": {},
   "source": [
    "### Feature Engineering: Polynomial Features\n",
    "Create polynomial features for each of the existing features (e.g., square or cube of 'N', 'K', etc.). This allows the model to capture more complex relationships between features."
   ]
  },
  {
   "cell_type": "code",
   "execution_count": 39,
   "id": "4f633299-cdae-41fc-a958-a09e9a2dbb6f",
   "metadata": {},
   "outputs": [
    {
     "name": "stdout",
     "output_type": "stream",
     "text": [
      "0.6354571503145485\n"
     ]
    }
   ],
   "source": [
    "from sklearn.preprocessing import PolynomialFeatures\n",
    "\n",
    "poly = PolynomialFeatures(degree=2, interaction_only=True)\n",
    "X_train_poly = poly.fit_transform(X_train)\n",
    "X_test_poly = poly.transform(X_test)\n",
    "\n",
    "log_reg.fit(X_train_poly, y_train)\n",
    "y_pred = log_reg.predict(X_test_poly)\n",
    "pf_model_performance = f1_score(y_test, y_pred, average=\"weighted\")\n",
    "print(pf_model_performance)"
   ]
  },
  {
   "cell_type": "markdown",
   "id": "348b3c03-a4a8-4d0d-ad1f-d04ed20acd36",
   "metadata": {},
   "source": [
    "### Feature Scaling:\n",
    "Logistic regression models are sensitive to the scale of features. Standardizing the features (mean = 0, variance = 1) ensures that all features contribute equally to the model."
   ]
  },
  {
   "cell_type": "code",
   "execution_count": 41,
   "id": "5f5de211-9397-4cf0-945e-a805006d01c1",
   "metadata": {},
   "outputs": [
    {
     "name": "stdout",
     "output_type": "stream",
     "text": [
      "0.6360557133254062\n"
     ]
    }
   ],
   "source": [
    "from sklearn.preprocessing import StandardScaler\n",
    "\n",
    "scaler = StandardScaler()\n",
    "X_train_scaled = scaler.fit_transform(X_train)\n",
    "X_test_scaled = scaler.transform(X_test)\n",
    "\n",
    "log_reg.fit(X_train_scaled, y_train)\n",
    "y_pred = log_reg.predict(X_test_scaled)\n",
    "ss_model_performance = f1_score(y_test, y_pred, average=\"weighted\")\n",
    "print(ss_model_performance)"
   ]
  },
  {
   "cell_type": "markdown",
   "id": "ae9a91af-13d7-4b6d-aada-5ca9fc072a22",
   "metadata": {},
   "source": [
    "### Hyperparameter Tuning:\n",
    "Use cross-validation to find the optimal hyperparameters, such as C (inverse regularization strength) or solver. Grid search or randomized search can help with this."
   ]
  },
  {
   "cell_type": "code",
   "execution_count": 43,
   "id": "5c12b65d-d553-4a0b-bf60-f4af807f8afa",
   "metadata": {},
   "outputs": [
    {
     "name": "stdout",
     "output_type": "stream",
     "text": [
      "Best parameters: {'C': 100, 'max_iter': 1000, 'solver': 'sag'}\n",
      "0.6877321050585921\n"
     ]
    }
   ],
   "source": [
    "from sklearn.model_selection import GridSearchCV\n",
    "\n",
    "param_grid = {\n",
    "    'C': [0.01, 0.1, 1, 10, 100],\n",
    "    'solver': ['lbfgs', 'sag', 'saga'],\n",
    "    'max_iter': [1000, 2000]\n",
    "}\n",
    "\n",
    "grid_search = GridSearchCV(LogisticRegression(multi_class=\"multinomial\"), param_grid, cv=5, scoring='f1_weighted')\n",
    "grid_search.fit(X_train_scaled, y_train)\n",
    "\n",
    "best_model = grid_search.best_estimator_\n",
    "y_pred = best_model.predict(X_test_scaled)\n",
    "ht_model_performance = f1_score(y_test, y_pred, average=\"weighted\")\n",
    "print(f\"Best parameters: {grid_search.best_params_}\")\n",
    "print(ht_model_performance)"
   ]
  },
  {
   "cell_type": "markdown",
   "id": "c69894fa-1feb-4e51-bb8d-c695a9824b41",
   "metadata": {},
   "source": [
    "### Regularization:\n",
    "Regularization techniques (L2 regularization, the default in LogisticRegression) can help prevent overfitting by penalizing large coefficients.\n",
    "Adjust the regularization strength parameter C in the logistic regression model. A smaller C value (stronger regularization) can help simplify the model and avoid overfitting."
   ]
  },
  {
   "cell_type": "code",
   "execution_count": 44,
   "id": "3d58f80a-f225-4cca-b3f6-ef0a3bab9323",
   "metadata": {},
   "outputs": [
    {
     "name": "stdout",
     "output_type": "stream",
     "text": [
      "0.5877974937062364\n"
     ]
    }
   ],
   "source": [
    "log_reg = LogisticRegression(max_iter=2000, multi_class=\"multinomial\", C=0.1)\n",
    "log_reg.fit(X_train_scaled, y_train)\n",
    "y_pred = log_reg.predict(X_test_scaled)\n",
    "reg_model_performance = f1_score(y_test, y_pred, average=\"weighted\")\n",
    "print(reg_model_performance)\n"
   ]
  },
  {
   "cell_type": "markdown",
   "id": "fb337cd4-73cc-49db-bb6e-2754f0d67916",
   "metadata": {},
   "source": [
    "### Cross-Validation:\n",
    "Instead of splitting the data once, use k-fold cross-validation to evaluate the model on different subsets of the data. This gives a better estimate of model performance and can prevent overfitting to the test set."
   ]
  },
  {
   "cell_type": "code",
   "execution_count": 23,
   "id": "b83e0f69-a037-42be-a535-3e512cf93374",
   "metadata": {},
   "outputs": [
    {
     "name": "stdout",
     "output_type": "stream",
     "text": [
      "Mean F1 score: 0.6842570777139014\n"
     ]
    }
   ],
   "source": [
    "from sklearn.model_selection import cross_val_score\n",
    "\n",
    "log_reg = LogisticRegression(max_iter=2000, multi_class=\"multinomial\")\n",
    "scores = cross_val_score(log_reg, X_train_scaled, y_train, cv=5, scoring='f1_weighted')\n",
    "print(f\"Mean F1 score: {scores.mean()}\")\n"
   ]
  },
  {
   "cell_type": "markdown",
   "id": "3b170a44-557d-4814-9d8f-e76134a43698",
   "metadata": {},
   "source": [
    "### Alternative Algorithms:\n",
    "If logistic regression is not giving satisfactory results, consider using more complex models such as random forests."
   ]
  },
  {
   "cell_type": "code",
   "execution_count": 45,
   "id": "823d847f-0376-4256-8ed5-04addd951b4a",
   "metadata": {},
   "outputs": [
    {
     "name": "stdout",
     "output_type": "stream",
     "text": [
      "0.8229840919150099\n"
     ]
    }
   ],
   "source": [
    "from sklearn.ensemble import RandomForestClassifier\n",
    "\n",
    "rf = RandomForestClassifier(n_estimators=100)\n",
    "rf.fit(X_train_scaled, y_train)\n",
    "y_pred = rf.predict(X_test_scaled)\n",
    "rf_model_performance = f1_score(y_test, y_pred, average=\"weighted\")\n",
    "print(rf_model_performance)\n"
   ]
  },
  {
   "cell_type": "markdown",
   "id": "cdb9545b-3637-43fa-b4c4-4788d96e552f",
   "metadata": {},
   "source": [
    "### Alternative Algorithms: Decision Tree Classifier"
   ]
  },
  {
   "cell_type": "code",
   "execution_count": 46,
   "id": "d4419d47-5649-486c-84ab-116e73a9d198",
   "metadata": {},
   "outputs": [
    {
     "name": "stdout",
     "output_type": "stream",
     "text": [
      "Decision Tree F1 score: 0.7814485999517448\n"
     ]
    }
   ],
   "source": [
    "from sklearn.tree import DecisionTreeClassifier\n",
    "from sklearn.metrics import f1_score\n",
    "\n",
    "# Instantiate the model\n",
    "tree_clf = DecisionTreeClassifier(random_state=42)\n",
    "\n",
    "# Fit the model\n",
    "tree_clf.fit(X_train, y_train)\n",
    "\n",
    "# Make predictions\n",
    "y_pred = tree_clf.predict(X_test)\n",
    "\n",
    "# Evaluate the performance\n",
    "dtc_model_performance = f1_score(y_test, y_pred, average='weighted')\n",
    "print(f\"Decision Tree F1 score: {dtc_model_performance}\")\n"
   ]
  },
  {
   "cell_type": "code",
   "execution_count": 28,
   "id": "d60309cf-1458-4f3e-bdb6-9ccebc481724",
   "metadata": {},
   "outputs": [
    {
     "name": "stdout",
     "output_type": "stream",
     "text": [
      "Requirement already satisfied: xgboost in c:\\users\\kgk.varma\\anaconda3\\lib\\site-packages (2.1.1)\n",
      "Requirement already satisfied: numpy in c:\\users\\kgk.varma\\anaconda3\\lib\\site-packages (from xgboost) (1.26.4)\n",
      "Requirement already satisfied: scipy in c:\\users\\kgk.varma\\anaconda3\\lib\\site-packages (from xgboost) (1.13.1)\n",
      "Note: you may need to restart the kernel to use updated packages.\n"
     ]
    }
   ],
   "source": [
    "pip install xgboost"
   ]
  },
  {
   "cell_type": "markdown",
   "id": "0771b3e1-2063-4cc3-a26a-11db784efe55",
   "metadata": {},
   "source": [
    "### Alternative Algorithms: xgboost "
   ]
  },
  {
   "cell_type": "code",
   "execution_count": 51,
   "id": "29719ac1-e5ee-4e9f-943e-f6fda65dbf64",
   "metadata": {},
   "outputs": [
    {
     "name": "stdout",
     "output_type": "stream",
     "text": [
      "XGBoost F1 score: 0.7903731381232454\n"
     ]
    }
   ],
   "source": [
    "from sklearn.model_selection import train_test_split\n",
    "from sklearn.preprocessing import LabelEncoder\n",
    "import xgboost as xgb\n",
    "from sklearn.metrics import f1_score\n",
    "\n",
    "final_features = ['K', 'N', 'P', 'ph']\n",
    "X_train, X_test, y_train, y_test = train_test_split(df[final_features], df[\"crop\"], test_size=0.2, random_state=42)\n",
    "\n",
    "label_encoder = LabelEncoder()\n",
    "y_train_encoded = label_encoder.fit_transform(y_train)\n",
    "y_test_encoded = label_encoder.transform(y_test)\n",
    "\n",
    "xgb_clf = xgb.XGBClassifier(objective=\"multi:softmax\", eval_metric=\"mlogloss\", num_class=len(label_encoder.classes_), random_state=42)\n",
    "xgb_clf.fit(X_train, y_train_encoded)\n",
    "\n",
    "y_pred_encoded = xgb_clf.predict(X_test)\n",
    "y_pred = label_encoder.inverse_transform(y_pred_encoded)\n",
    "\n",
    "# Evaluate the performance\n",
    "xgb_model_performance = f1_score(y_test, y_pred, average='weighted')\n",
    "print(f\"XGBoost F1 score: {xgb_model_performance}\")\n"
   ]
  },
  {
   "cell_type": "markdown",
   "id": "183af825-57a7-4507-8551-d6e704331c68",
   "metadata": {},
   "source": [
    "### Handle Class Imbalance:\n",
    "If your target variable ('crop') has imbalanced classes, you may need to adjust the class weights to prevent the model from being biased towards the majority class."
   ]
  },
  {
   "cell_type": "code",
   "execution_count": 53,
   "id": "b55f03f2-2057-4ec4-870d-58a6e07d4440",
   "metadata": {},
   "outputs": [
    {
     "name": "stdout",
     "output_type": "stream",
     "text": [
      "0.6360557133254062\n"
     ]
    }
   ],
   "source": [
    "log_reg = LogisticRegression(max_iter=2000, multi_class=\"multinomial\", class_weight=\"balanced\")\n",
    "log_reg.fit(X_train_scaled, y_train)\n",
    "y_pred = log_reg.predict(X_test_scaled)\n",
    "ci_model_performance = f1_score(y_test, y_pred, average=\"weighted\")\n",
    "print(ci_model_performance)\n"
   ]
  },
  {
   "cell_type": "markdown",
   "id": "b69b8031-7198-4a10-94ef-5be72a0dec16",
   "metadata": {},
   "source": [
    "## Model_performance"
   ]
  },
  {
   "cell_type": "code",
   "execution_count": 34,
   "id": "e4f89dda-4b6d-4dab-b83f-44f9ed77c717",
   "metadata": {},
   "outputs": [
    {
     "name": "stdout",
     "output_type": "stream",
     "text": [
      "                    Model  F1 Score\n",
      "0     Logistic Regression  0.647422\n",
      "1           Decision Tree  0.781449\n",
      "2           Random Forest  0.807452\n",
      "3                 XGBoost  0.790373\n",
      "4     Polynomial Features  0.627035\n",
      "5          StandardScaler  0.647521\n",
      "6   Hyperparameter Tuning  0.687732\n",
      "7          Regularization  0.587797\n",
      "8         Class Imbalance  0.636056\n"
     ]
    }
   ],
   "source": [
    "model_performance = {\n",
    "    \"Logistic Regression\": model_performance,\n",
    "    \"Decision Tree\": dtc_model_performance,\n",
    "    \"Random Forest\": rf_model_performance,\n",
    "    \"XGBoost\": xgb_model_performance,\n",
    "    \"Polynomial Features\": pf_model_performance,\n",
    "    \"StandardScaler\" : ss_model_performance,\n",
    "    \" Hyperparameter Tuning\" :ht_model_performance,\n",
    "    \"Regularization\" : reg_model_performance,\n",
    "    \"Class Imbalance\": ci_model_performance,\n",
    "}\n",
    "\n",
    "# Convert to DataFrame for better visualization\n",
    "performance_df = pd.DataFrame(model_performance.items(), columns=[\"Model\", \"F1 Score\"])\n",
    "print(performance_df)"
   ]
  },
  {
   "cell_type": "code",
   "execution_count": 35,
   "id": "f9369d6b-e7fe-4669-aab9-0f52c28103ec",
   "metadata": {},
   "outputs": [
    {
     "data": {
      "image/png": "[encoded data removed]",
      "text/plain": [
       "<Figure size 1000x500 with 1 Axes>"
      ]
     },
     "metadata": {},
     "output_type": "display_data"
    }
   ],
   "source": [
    "plt.figure(figsize=(10, 5))\n",
    "plt.bar(performance_df['Model'], performance_df['F1 Score'], color='skyblue')\n",
    "plt.xlabel('Models')\n",
    "plt.ylabel('F1 Score')\n",
    "plt.title('Model Performance Comparison')\n",
    "plt.xticks(rotation=45)\n",
    "plt.show()"
   ]
  },
  {
   "cell_type": "markdown",
   "id": "6c864c99-0604-4cb0-a330-832ebb1cdf99",
   "metadata": {},
   "source": [
    "From this hypothetical example:\n",
    "Logistic regression with Hyperparameter tuning as a highest F1 score(compared to other strategies. As an Alternative models -The Random Forest model has the highest F1 score (0.81) and is therefore the best-performing model.\n",
    "XGboost is the next best with an F1 score of 0.79."
   ]
  },
  {
   "cell_type": "code",
   "execution_count": 37,
   "id": "f34b443c-c387-42bb-9e2d-095d73a85e44",
   "metadata": {},
   "outputs": [],
   "source": [
    "new_data = {\n",
    "    'K': [150, 200, 100],\n",
    "    'N': [80, 90, 70],\n",
    "    'P': [60, 70, 50],\n",
    "    'ph': [6.5, 7.0, 6.0]\n",
    "}\n",
    "\n",
    "new_df = pd.DataFrame(new_data)"
   ]
  },
  {
   "cell_type": "code",
   "execution_count": 57,
   "id": "d5d117c6-16df-4a30-adca-d5a1db2acffe",
   "metadata": {},
   "outputs": [
    {
     "data": {
      "text/plain": [
       "array(['grapes', 'grapes', 'grapes'], dtype=object)"
      ]
     },
     "execution_count": 57,
     "metadata": {},
     "output_type": "execute_result"
    }
   ],
   "source": [
    "predictions = rf.predict(new_df)\n",
    "predictions"
   ]
  }
 ],
 "metadata": {
  "kernelspec": {
   "display_name": "Python 3 (ipykernel)",
   "language": "python",
   "name": "python3"
  },
  "language_info": {
   "codemirror_mode": {
    "name": "ipython",
    "version": 3
   },
   "file_extension": ".py",
   "mimetype": "text/x-python",
   "name": "python",
   "nbconvert_exporter": "python",
   "pygments_lexer": "ipython3",
   "version": "3.12.4"
  }
 },
 "nbformat": 4,
 "nbformat_minor": 5
}
